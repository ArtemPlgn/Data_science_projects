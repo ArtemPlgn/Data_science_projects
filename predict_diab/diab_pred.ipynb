{
 "cells": [
  {
   "cell_type": "markdown",
   "id": "4ff3ecdb",
   "metadata": {},
   "source": [
    "# Прогнозирование наличия сахарного диабета."
   ]
  },
  {
   "cell_type": "markdown",
   "id": "15565085",
   "metadata": {},
   "source": [
    "<img src='diab.jpg' style='width:600px;height:350px'/>"
   ]
  },
  {
   "cell_type": "markdown",
   "id": "ff0d6150",
   "metadata": {},
   "source": [
    "По воле случая в жизни компании \"Тралала\" встречались разные люди, и не исключением были прекрасные люди с сахарным диабетом. В один момент компания задумалась, а как же можно предсказать возникновение диабета и поклялась жизнью приблизиться хоть на чуточку к ответу на этот загадочный вопрос. \n",
    "\n"
   ]
  },
  {
   "cell_type": "markdown",
   "id": "168f65a1",
   "metadata": {},
   "source": [
    "## Импорт необходимым библиотек"
   ]
  },
  {
   "cell_type": "code",
   "execution_count": 1,
   "id": "d3f111ee",
   "metadata": {},
   "outputs": [],
   "source": [
    "import pandas as pd\n",
    "import numpy as np\n",
    "import matplotlib.pyplot as plt\n",
    "import seaborn as sns\n",
    "\n",
    "from sklearn.model_selection import train_test_split, GridSearchCV\n",
    "from sklearn.preprocessing import StandardScaler\n",
    "\n",
    "\n",
    "from sklearn.linear_model import LogisticRegression\n",
    "from sklearn.ensemble import RandomForestClassifier, AdaBoostClassifier\n",
    "\n",
    "from sklearn.metrics import f1_score, accuracy_score, roc_auc_score, roc_curve\n",
    "from sklearn.utils import shuffle\n",
    "\n",
    "import warnings\n",
    "\n",
    "warnings.filterwarnings(\"ignore\")"
   ]
  },
  {
   "cell_type": "markdown",
   "id": "1f1783d9",
   "metadata": {},
   "source": [
    "### Общая информация по данным"
   ]
  },
  {
   "cell_type": "code",
   "execution_count": 2,
   "id": "49b4f544",
   "metadata": {},
   "outputs": [],
   "source": [
    "df = pd.read_csv('diabetes_predict.csv')"
   ]
  },
  {
   "cell_type": "code",
   "execution_count": 3,
   "id": "bbe9eefa",
   "metadata": {},
   "outputs": [],
   "source": [
    "def df_info(data):\n",
    "    print(\"Общая информация по датасету:\")\n",
    "    display(data.head())\n",
    "    print('----------------------------')\n",
    "    display(data.info())\n",
    "    print('----------------------------')\n",
    "    display(data.describe())"
   ]
  },
  {
   "cell_type": "code",
   "execution_count": 4,
   "id": "0b2b3471",
   "metadata": {},
   "outputs": [
    {
     "name": "stdout",
     "output_type": "stream",
     "text": [
      "Общая информация по датасету:\n"
     ]
    },
    {
     "data": {
      "text/html": [
       "<div>\n",
       "<style scoped>\n",
       "    .dataframe tbody tr th:only-of-type {\n",
       "        vertical-align: middle;\n",
       "    }\n",
       "\n",
       "    .dataframe tbody tr th {\n",
       "        vertical-align: top;\n",
       "    }\n",
       "\n",
       "    .dataframe thead th {\n",
       "        text-align: right;\n",
       "    }\n",
       "</style>\n",
       "<table border=\"1\" class=\"dataframe\">\n",
       "  <thead>\n",
       "    <tr style=\"text-align: right;\">\n",
       "      <th></th>\n",
       "      <th>gender</th>\n",
       "      <th>age</th>\n",
       "      <th>hypertension</th>\n",
       "      <th>heart_disease</th>\n",
       "      <th>smoking_history</th>\n",
       "      <th>bmi</th>\n",
       "      <th>HbA1c_level</th>\n",
       "      <th>blood_glucose_level</th>\n",
       "      <th>diabetes</th>\n",
       "    </tr>\n",
       "  </thead>\n",
       "  <tbody>\n",
       "    <tr>\n",
       "      <th>0</th>\n",
       "      <td>Female</td>\n",
       "      <td>80.0</td>\n",
       "      <td>0</td>\n",
       "      <td>1</td>\n",
       "      <td>never</td>\n",
       "      <td>25.19</td>\n",
       "      <td>6.6</td>\n",
       "      <td>140</td>\n",
       "      <td>0</td>\n",
       "    </tr>\n",
       "    <tr>\n",
       "      <th>1</th>\n",
       "      <td>Female</td>\n",
       "      <td>54.0</td>\n",
       "      <td>0</td>\n",
       "      <td>0</td>\n",
       "      <td>No Info</td>\n",
       "      <td>27.32</td>\n",
       "      <td>6.6</td>\n",
       "      <td>80</td>\n",
       "      <td>0</td>\n",
       "    </tr>\n",
       "    <tr>\n",
       "      <th>2</th>\n",
       "      <td>Male</td>\n",
       "      <td>28.0</td>\n",
       "      <td>0</td>\n",
       "      <td>0</td>\n",
       "      <td>never</td>\n",
       "      <td>27.32</td>\n",
       "      <td>5.7</td>\n",
       "      <td>158</td>\n",
       "      <td>0</td>\n",
       "    </tr>\n",
       "    <tr>\n",
       "      <th>3</th>\n",
       "      <td>Female</td>\n",
       "      <td>36.0</td>\n",
       "      <td>0</td>\n",
       "      <td>0</td>\n",
       "      <td>current</td>\n",
       "      <td>23.45</td>\n",
       "      <td>5.0</td>\n",
       "      <td>155</td>\n",
       "      <td>0</td>\n",
       "    </tr>\n",
       "    <tr>\n",
       "      <th>4</th>\n",
       "      <td>Male</td>\n",
       "      <td>76.0</td>\n",
       "      <td>1</td>\n",
       "      <td>1</td>\n",
       "      <td>current</td>\n",
       "      <td>20.14</td>\n",
       "      <td>4.8</td>\n",
       "      <td>155</td>\n",
       "      <td>0</td>\n",
       "    </tr>\n",
       "  </tbody>\n",
       "</table>\n",
       "</div>"
      ],
      "text/plain": [
       "   gender   age  hypertension  heart_disease smoking_history    bmi  \\\n",
       "0  Female  80.0             0              1           never  25.19   \n",
       "1  Female  54.0             0              0         No Info  27.32   \n",
       "2    Male  28.0             0              0           never  27.32   \n",
       "3  Female  36.0             0              0         current  23.45   \n",
       "4    Male  76.0             1              1         current  20.14   \n",
       "\n",
       "   HbA1c_level  blood_glucose_level  diabetes  \n",
       "0          6.6                  140         0  \n",
       "1          6.6                   80         0  \n",
       "2          5.7                  158         0  \n",
       "3          5.0                  155         0  \n",
       "4          4.8                  155         0  "
      ]
     },
     "metadata": {},
     "output_type": "display_data"
    },
    {
     "name": "stdout",
     "output_type": "stream",
     "text": [
      "----------------------------\n",
      "<class 'pandas.core.frame.DataFrame'>\n",
      "RangeIndex: 99982 entries, 0 to 99981\n",
      "Data columns (total 9 columns):\n",
      " #   Column               Non-Null Count  Dtype  \n",
      "---  ------               --------------  -----  \n",
      " 0   gender               99982 non-null  object \n",
      " 1   age                  99982 non-null  float64\n",
      " 2   hypertension         99982 non-null  int64  \n",
      " 3   heart_disease        99982 non-null  int64  \n",
      " 4   smoking_history      99982 non-null  object \n",
      " 5   bmi                  99982 non-null  float64\n",
      " 6   HbA1c_level          99982 non-null  float64\n",
      " 7   blood_glucose_level  99982 non-null  int64  \n",
      " 8   diabetes             99982 non-null  int64  \n",
      "dtypes: float64(3), int64(4), object(2)\n",
      "memory usage: 6.9+ MB\n"
     ]
    },
    {
     "data": {
      "text/plain": [
       "None"
      ]
     },
     "metadata": {},
     "output_type": "display_data"
    },
    {
     "name": "stdout",
     "output_type": "stream",
     "text": [
      "----------------------------\n"
     ]
    },
    {
     "data": {
      "text/html": [
       "<div>\n",
       "<style scoped>\n",
       "    .dataframe tbody tr th:only-of-type {\n",
       "        vertical-align: middle;\n",
       "    }\n",
       "\n",
       "    .dataframe tbody tr th {\n",
       "        vertical-align: top;\n",
       "    }\n",
       "\n",
       "    .dataframe thead th {\n",
       "        text-align: right;\n",
       "    }\n",
       "</style>\n",
       "<table border=\"1\" class=\"dataframe\">\n",
       "  <thead>\n",
       "    <tr style=\"text-align: right;\">\n",
       "      <th></th>\n",
       "      <th>age</th>\n",
       "      <th>hypertension</th>\n",
       "      <th>heart_disease</th>\n",
       "      <th>bmi</th>\n",
       "      <th>HbA1c_level</th>\n",
       "      <th>blood_glucose_level</th>\n",
       "      <th>diabetes</th>\n",
       "    </tr>\n",
       "  </thead>\n",
       "  <tbody>\n",
       "    <tr>\n",
       "      <th>count</th>\n",
       "      <td>99982.000000</td>\n",
       "      <td>99982.000000</td>\n",
       "      <td>99982.000000</td>\n",
       "      <td>99982.000000</td>\n",
       "      <td>99982.000000</td>\n",
       "      <td>99982.000000</td>\n",
       "      <td>99982.000000</td>\n",
       "    </tr>\n",
       "    <tr>\n",
       "      <th>mean</th>\n",
       "      <td>41.888076</td>\n",
       "      <td>0.074863</td>\n",
       "      <td>0.039427</td>\n",
       "      <td>27.320757</td>\n",
       "      <td>5.527529</td>\n",
       "      <td>138.057810</td>\n",
       "      <td>0.085015</td>\n",
       "    </tr>\n",
       "    <tr>\n",
       "      <th>std</th>\n",
       "      <td>22.517206</td>\n",
       "      <td>0.263172</td>\n",
       "      <td>0.194610</td>\n",
       "      <td>6.636853</td>\n",
       "      <td>1.070665</td>\n",
       "      <td>40.709469</td>\n",
       "      <td>0.278906</td>\n",
       "    </tr>\n",
       "    <tr>\n",
       "      <th>min</th>\n",
       "      <td>0.080000</td>\n",
       "      <td>0.000000</td>\n",
       "      <td>0.000000</td>\n",
       "      <td>10.010000</td>\n",
       "      <td>3.500000</td>\n",
       "      <td>80.000000</td>\n",
       "      <td>0.000000</td>\n",
       "    </tr>\n",
       "    <tr>\n",
       "      <th>25%</th>\n",
       "      <td>24.000000</td>\n",
       "      <td>0.000000</td>\n",
       "      <td>0.000000</td>\n",
       "      <td>23.630000</td>\n",
       "      <td>4.800000</td>\n",
       "      <td>100.000000</td>\n",
       "      <td>0.000000</td>\n",
       "    </tr>\n",
       "    <tr>\n",
       "      <th>50%</th>\n",
       "      <td>43.000000</td>\n",
       "      <td>0.000000</td>\n",
       "      <td>0.000000</td>\n",
       "      <td>27.320000</td>\n",
       "      <td>5.800000</td>\n",
       "      <td>140.000000</td>\n",
       "      <td>0.000000</td>\n",
       "    </tr>\n",
       "    <tr>\n",
       "      <th>75%</th>\n",
       "      <td>60.000000</td>\n",
       "      <td>0.000000</td>\n",
       "      <td>0.000000</td>\n",
       "      <td>29.580000</td>\n",
       "      <td>6.200000</td>\n",
       "      <td>159.000000</td>\n",
       "      <td>0.000000</td>\n",
       "    </tr>\n",
       "    <tr>\n",
       "      <th>max</th>\n",
       "      <td>80.000000</td>\n",
       "      <td>1.000000</td>\n",
       "      <td>1.000000</td>\n",
       "      <td>95.690000</td>\n",
       "      <td>9.000000</td>\n",
       "      <td>300.000000</td>\n",
       "      <td>1.000000</td>\n",
       "    </tr>\n",
       "  </tbody>\n",
       "</table>\n",
       "</div>"
      ],
      "text/plain": [
       "                age  hypertension  heart_disease           bmi   HbA1c_level  \\\n",
       "count  99982.000000  99982.000000   99982.000000  99982.000000  99982.000000   \n",
       "mean      41.888076      0.074863       0.039427     27.320757      5.527529   \n",
       "std       22.517206      0.263172       0.194610      6.636853      1.070665   \n",
       "min        0.080000      0.000000       0.000000     10.010000      3.500000   \n",
       "25%       24.000000      0.000000       0.000000     23.630000      4.800000   \n",
       "50%       43.000000      0.000000       0.000000     27.320000      5.800000   \n",
       "75%       60.000000      0.000000       0.000000     29.580000      6.200000   \n",
       "max       80.000000      1.000000       1.000000     95.690000      9.000000   \n",
       "\n",
       "       blood_glucose_level      diabetes  \n",
       "count         99982.000000  99982.000000  \n",
       "mean            138.057810      0.085015  \n",
       "std              40.709469      0.278906  \n",
       "min              80.000000      0.000000  \n",
       "25%             100.000000      0.000000  \n",
       "50%             140.000000      0.000000  \n",
       "75%             159.000000      0.000000  \n",
       "max             300.000000      1.000000  "
      ]
     },
     "metadata": {},
     "output_type": "display_data"
    }
   ],
   "source": [
    "df_info(df)"
   ]
  },
  {
   "cell_type": "markdown",
   "id": "daac8ce0",
   "metadata": {},
   "source": [
    "Колонки в нашем датасете содержат следующую информацию:\n",
    "\n",
    "`gender` - пол пациента\n",
    "\n",
    "`age` - сколько лет пациенту\n",
    "\n",
    "`hypertension` - имеется ли гипертония\n",
    "\n",
    "`heart_disease` - имеется ли болезни сердца\n",
    "\n",
    "`smoking_history` - история курения\n",
    "\n",
    "`bmi` - индекс массы тела\n",
    "\n",
    "`HbA1c_level` - уровень гемоглобина в крови\n",
    "\n",
    "`blood_glucose_level` - уровень глюкозы в крови\n",
    "\n",
    "`diabetes` - имеется ли диабет у человека или нет\n"
   ]
  },
  {
   "cell_type": "markdown",
   "id": "c3a443e2",
   "metadata": {},
   "source": [
    "Проверим количество NaN значений в датасете"
   ]
  },
  {
   "cell_type": "code",
   "execution_count": 5,
   "id": "37a459e1",
   "metadata": {},
   "outputs": [
    {
     "data": {
      "text/plain": [
       "gender                 0\n",
       "age                    0\n",
       "hypertension           0\n",
       "heart_disease          0\n",
       "smoking_history        0\n",
       "bmi                    0\n",
       "HbA1c_level            0\n",
       "blood_glucose_level    0\n",
       "diabetes               0\n",
       "dtype: int64"
      ]
     },
     "execution_count": 5,
     "metadata": {},
     "output_type": "execute_result"
    }
   ],
   "source": [
    "df.isna().sum()"
   ]
  },
  {
   "cell_type": "markdown",
   "id": "06ab3427",
   "metadata": {},
   "source": [
    "Вывод показывает, что NaN значения у нас в датафрейме отсутствуют. Проверим теперь наличие дубликатов."
   ]
  },
  {
   "cell_type": "code",
   "execution_count": 6,
   "id": "08e99ffd",
   "metadata": {},
   "outputs": [
    {
     "name": "stdout",
     "output_type": "stream",
     "text": [
      "Дубликатов найдено: 3854\n"
     ]
    }
   ],
   "source": [
    "print(f'Дубликатов найдено: {df.duplicated().sum()}')"
   ]
  },
  {
   "cell_type": "markdown",
   "id": "9f143b95",
   "metadata": {},
   "source": [
    "3854 дубликата найдено. Дубликаты сами по себе могут не вызывать ошибок, но отнимать времени для получения результата возможность у них есть. Поэтому избавимся от них."
   ]
  },
  {
   "cell_type": "code",
   "execution_count": 7,
   "id": "c3199c78",
   "metadata": {},
   "outputs": [],
   "source": [
    "df = df.drop_duplicates()"
   ]
  },
  {
   "cell_type": "markdown",
   "id": "de7bd70e",
   "metadata": {},
   "source": [
    "Проверим теперь их количество:"
   ]
  },
  {
   "cell_type": "code",
   "execution_count": 8,
   "id": "47420de8",
   "metadata": {},
   "outputs": [
    {
     "name": "stdout",
     "output_type": "stream",
     "text": [
      "Дубликатов найдено: 0\n"
     ]
    }
   ],
   "source": [
    "print(f'Дубликатов найдено: {df.duplicated().sum()}')"
   ]
  },
  {
   "cell_type": "markdown",
   "id": "7604c4fa",
   "metadata": {},
   "source": [
    "Дубликаты были удалены, можем приступать к исследовательскому анализу данных."
   ]
  },
  {
   "cell_type": "markdown",
   "id": "8568f7e4",
   "metadata": {},
   "source": [
    "## Анализ данных"
   ]
  },
  {
   "cell_type": "markdown",
   "id": "e61c822f",
   "metadata": {},
   "source": [
    "\n",
    "Посмотрим какое количество людей проходивших исследование к какому гендеру относятся. И как распределен диабет между полами."
   ]
  },
  {
   "cell_type": "code",
   "execution_count": 23,
   "id": "3fb1a524",
   "metadata": {},
   "outputs": [
    {
     "data": {
      "text/plain": [
       "<AxesSubplot:xlabel='gender', ylabel='count'>"
      ]
     },
     "execution_count": 23,
     "metadata": {},
     "output_type": "execute_result"
    },
    {
     "data": {
      "image/png": "[encoded data removed]",
      "text/plain": [
       "<Figure size 640x480 with 1 Axes>"
      ]
     },
     "metadata": {},
     "output_type": "display_data"
    }
   ],
   "source": [
    "sns.countplot(data=df, x='gender')"
   ]
  },
  {
   "cell_type": "markdown",
   "id": "420ad455",
   "metadata": {},
   "source": [
    "Посмотрим на количество испытуемых у которых диагностиран диабет и на количество тех у кого нет."
   ]
  },
  {
   "cell_type": "code",
   "execution_count": 10,
   "id": "85699ea4",
   "metadata": {},
   "outputs": [
    {
     "data": {
      "text/plain": [
       "<AxesSubplot:xlabel='gender', ylabel='count'>"
      ]
     },
     "execution_count": 10,
     "metadata": {},
     "output_type": "execute_result"
    },
    {
     "data": {
      "image/png": "[encoded data removed]",
      "text/plain": [
       "<Figure size 640x480 with 1 Axes>"
      ]
     },
     "metadata": {},
     "output_type": "display_data"
    }
   ],
   "source": [
    "sns.countplot(data=df, x='gender', hue='diabetes')"
   ]
  },
  {
   "cell_type": "markdown",
   "id": "8300b596",
   "metadata": {},
   "source": [
    "Видим ярко выраженный дисбаланс классов. Посмотрим на цифры:"
   ]
  },
  {
   "cell_type": "code",
   "execution_count": 11,
   "id": "91ea52cb",
   "metadata": {},
   "outputs": [
    {
     "data": {
      "text/plain": [
       "0    87646\n",
       "1     8482\n",
       "Name: diabetes, dtype: int64"
      ]
     },
     "execution_count": 11,
     "metadata": {},
     "output_type": "execute_result"
    }
   ],
   "source": [
    "df['diabetes'].value_counts()\n",
    "axes[0]."
   ]
  },
  {
   "cell_type": "markdown",
   "id": "5c896e0c",
   "metadata": {},
   "source": [
    "Да, распределения целевой переменной имеет дисбаланс. Посмотрим, что нам удастся сделать в процессе построения модели машинного обучения."
   ]
  },
  {
   "cell_type": "markdown",
   "id": "45a7fe32",
   "metadata": {},
   "source": [
    "---\n",
    "Взглянем на историю курения для каждого гендера"
   ]
  },
  {
   "cell_type": "code",
   "execution_count": 13,
   "id": "b71aeed0",
   "metadata": {},
   "outputs": [
    {
     "data": {
      "text/plain": [
       "<AxesSubplot:xlabel='gender', ylabel='count'>"
      ]
     },
     "execution_count": 13,
     "metadata": {},
     "output_type": "execute_result"
    },
    {
     "data": {
      "image/png": "[encoded data removed]",
      "text/plain": [
       "<Figure size 640x480 with 1 Axes>"
      ]
     },
     "metadata": {},
     "output_type": "display_data"
    }
   ],
   "source": [
    "sns.countplot(data=df, x='gender', hue='smoking_history')"
   ]
  },
  {
   "cell_type": "markdown",
   "id": "d46d97f4",
   "metadata": {},
   "source": [
    "У обоих полов премущественно выделяются два распределения, `never` - никогда не курил и `not info` - нету информации. "
   ]
  },
  {
   "cell_type": "markdown",
   "id": "b91d8a2e",
   "metadata": {},
   "source": [
    "---\n",
    "Посмотрим на корреляцию между переменными."
   ]
  },
  {
   "cell_type": "code",
   "execution_count": 14,
   "id": "c781f690",
   "metadata": {},
   "outputs": [
    {
     "data": {
      "text/plain": [
       "<AxesSubplot:>"
      ]
     },
     "execution_count": 14,
     "metadata": {},
     "output_type": "execute_result"
    },
    {
     "data": {
      "image/png": "[encoded data removed]",
      "text/plain": [
       "<Figure size 640x480 with 2 Axes>"
      ]
     },
     "metadata": {},
     "output_type": "display_data"
    }
   ],
   "source": [
    "sns.heatmap(df.corr(), annot=True)"
   ]
  },
  {
   "cell_type": "markdown",
   "id": "92474b70",
   "metadata": {},
   "source": [
    "На графике вывода можно наблюдать, что большинство переменных имеют слабо выраженную корреляцию. Из всех выделяются только `HbA1c_level` - уровень Гликированного гемоглобина и `blood_glucose_level` - уровень глюкозы в крови."
   ]
  },
  {
   "cell_type": "markdown",
   "id": "d5e5797d",
   "metadata": {},
   "source": [
    "### Вывод: \n",
    "   - Был проведен исследовательский анализ данных.\n",
    "   - В процессе был обнаружен дисбаланс классов.\n",
    "   - Так же была произведена очистка данных от дубликатов.\n",
    "   - Была рассмотрена корреляция между признаками."
   ]
  },
  {
   "cell_type": "markdown",
   "id": "07f3b42f",
   "metadata": {},
   "source": [
    "## Постановка задачи\n",
    "\n",
    "Перед нами стоит задача классификации - необходимо определить окажется ли диабет у человека ввиду исторических данных или нет. Для достижения результатов данной задачи предлагаю использовать `логистическую регрессию`, `случайный лес` и `AdaBoost`. \n",
    "\n",
    "Оценивать результаты моделей будем по `F1-мере`.\n",
    "\n",
    "Для оценки итоговой модели используем `ROC-AUC`.\n",
    "\n",
    "По видимому дисбалансу классов метрика - `accuracy` нам не подойдет."
   ]
  },
  {
   "cell_type": "markdown",
   "id": "004321a6",
   "metadata": {},
   "source": [
    "### Подготовка признаков"
   ]
  },
  {
   "cell_type": "code",
   "execution_count": 15,
   "id": "7ea31337",
   "metadata": {},
   "outputs": [
    {
     "data": {
      "text/html": [
       "<div>\n",
       "<style scoped>\n",
       "    .dataframe tbody tr th:only-of-type {\n",
       "        vertical-align: middle;\n",
       "    }\n",
       "\n",
       "    .dataframe tbody tr th {\n",
       "        vertical-align: top;\n",
       "    }\n",
       "\n",
       "    .dataframe thead th {\n",
       "        text-align: right;\n",
       "    }\n",
       "</style>\n",
       "<table border=\"1\" class=\"dataframe\">\n",
       "  <thead>\n",
       "    <tr style=\"text-align: right;\">\n",
       "      <th></th>\n",
       "      <th>gender</th>\n",
       "      <th>age</th>\n",
       "      <th>hypertension</th>\n",
       "      <th>heart_disease</th>\n",
       "      <th>smoking_history</th>\n",
       "      <th>bmi</th>\n",
       "      <th>HbA1c_level</th>\n",
       "      <th>blood_glucose_level</th>\n",
       "      <th>diabetes</th>\n",
       "    </tr>\n",
       "  </thead>\n",
       "  <tbody>\n",
       "    <tr>\n",
       "      <th>0</th>\n",
       "      <td>Female</td>\n",
       "      <td>80.0</td>\n",
       "      <td>0</td>\n",
       "      <td>1</td>\n",
       "      <td>never</td>\n",
       "      <td>25.19</td>\n",
       "      <td>6.6</td>\n",
       "      <td>140</td>\n",
       "      <td>0</td>\n",
       "    </tr>\n",
       "    <tr>\n",
       "      <th>1</th>\n",
       "      <td>Female</td>\n",
       "      <td>54.0</td>\n",
       "      <td>0</td>\n",
       "      <td>0</td>\n",
       "      <td>No Info</td>\n",
       "      <td>27.32</td>\n",
       "      <td>6.6</td>\n",
       "      <td>80</td>\n",
       "      <td>0</td>\n",
       "    </tr>\n",
       "    <tr>\n",
       "      <th>2</th>\n",
       "      <td>Male</td>\n",
       "      <td>28.0</td>\n",
       "      <td>0</td>\n",
       "      <td>0</td>\n",
       "      <td>never</td>\n",
       "      <td>27.32</td>\n",
       "      <td>5.7</td>\n",
       "      <td>158</td>\n",
       "      <td>0</td>\n",
       "    </tr>\n",
       "    <tr>\n",
       "      <th>3</th>\n",
       "      <td>Female</td>\n",
       "      <td>36.0</td>\n",
       "      <td>0</td>\n",
       "      <td>0</td>\n",
       "      <td>current</td>\n",
       "      <td>23.45</td>\n",
       "      <td>5.0</td>\n",
       "      <td>155</td>\n",
       "      <td>0</td>\n",
       "    </tr>\n",
       "    <tr>\n",
       "      <th>4</th>\n",
       "      <td>Male</td>\n",
       "      <td>76.0</td>\n",
       "      <td>1</td>\n",
       "      <td>1</td>\n",
       "      <td>current</td>\n",
       "      <td>20.14</td>\n",
       "      <td>4.8</td>\n",
       "      <td>155</td>\n",
       "      <td>0</td>\n",
       "    </tr>\n",
       "  </tbody>\n",
       "</table>\n",
       "</div>"
      ],
      "text/plain": [
       "   gender   age  hypertension  heart_disease smoking_history    bmi  \\\n",
       "0  Female  80.0             0              1           never  25.19   \n",
       "1  Female  54.0             0              0         No Info  27.32   \n",
       "2    Male  28.0             0              0           never  27.32   \n",
       "3  Female  36.0             0              0         current  23.45   \n",
       "4    Male  76.0             1              1         current  20.14   \n",
       "\n",
       "   HbA1c_level  blood_glucose_level  diabetes  \n",
       "0          6.6                  140         0  \n",
       "1          6.6                   80         0  \n",
       "2          5.7                  158         0  \n",
       "3          5.0                  155         0  \n",
       "4          4.8                  155         0  "
      ]
     },
     "execution_count": 15,
     "metadata": {},
     "output_type": "execute_result"
    }
   ],
   "source": [
    "df.head()"
   ]
  },
  {
   "cell_type": "markdown",
   "id": "fc999f9a",
   "metadata": {},
   "source": [
    "Произведем удаление ненужных признаков и сформируем новый датасет, чтобы не перезаписывать переменные.\n",
    "\n",
    "Удалим историю курения, так как там много данных, которые ничего полезного нам не предоставят, а только скорее всего запутают наши модели. "
   ]
  },
  {
   "cell_type": "code",
   "execution_count": 16,
   "id": "759ee88f",
   "metadata": {},
   "outputs": [
    {
     "data": {
      "text/html": [
       "<div>\n",
       "<style scoped>\n",
       "    .dataframe tbody tr th:only-of-type {\n",
       "        vertical-align: middle;\n",
       "    }\n",
       "\n",
       "    .dataframe tbody tr th {\n",
       "        vertical-align: top;\n",
       "    }\n",
       "\n",
       "    .dataframe thead th {\n",
       "        text-align: right;\n",
       "    }\n",
       "</style>\n",
       "<table border=\"1\" class=\"dataframe\">\n",
       "  <thead>\n",
       "    <tr style=\"text-align: right;\">\n",
       "      <th></th>\n",
       "      <th>gender</th>\n",
       "      <th>age</th>\n",
       "      <th>hypertension</th>\n",
       "      <th>heart_disease</th>\n",
       "      <th>bmi</th>\n",
       "      <th>HbA1c_level</th>\n",
       "      <th>blood_glucose_level</th>\n",
       "      <th>diabetes</th>\n",
       "    </tr>\n",
       "  </thead>\n",
       "  <tbody>\n",
       "    <tr>\n",
       "      <th>0</th>\n",
       "      <td>Female</td>\n",
       "      <td>80.0</td>\n",
       "      <td>0</td>\n",
       "      <td>1</td>\n",
       "      <td>25.19</td>\n",
       "      <td>6.6</td>\n",
       "      <td>140</td>\n",
       "      <td>0</td>\n",
       "    </tr>\n",
       "    <tr>\n",
       "      <th>1</th>\n",
       "      <td>Female</td>\n",
       "      <td>54.0</td>\n",
       "      <td>0</td>\n",
       "      <td>0</td>\n",
       "      <td>27.32</td>\n",
       "      <td>6.6</td>\n",
       "      <td>80</td>\n",
       "      <td>0</td>\n",
       "    </tr>\n",
       "    <tr>\n",
       "      <th>2</th>\n",
       "      <td>Male</td>\n",
       "      <td>28.0</td>\n",
       "      <td>0</td>\n",
       "      <td>0</td>\n",
       "      <td>27.32</td>\n",
       "      <td>5.7</td>\n",
       "      <td>158</td>\n",
       "      <td>0</td>\n",
       "    </tr>\n",
       "    <tr>\n",
       "      <th>3</th>\n",
       "      <td>Female</td>\n",
       "      <td>36.0</td>\n",
       "      <td>0</td>\n",
       "      <td>0</td>\n",
       "      <td>23.45</td>\n",
       "      <td>5.0</td>\n",
       "      <td>155</td>\n",
       "      <td>0</td>\n",
       "    </tr>\n",
       "    <tr>\n",
       "      <th>4</th>\n",
       "      <td>Male</td>\n",
       "      <td>76.0</td>\n",
       "      <td>1</td>\n",
       "      <td>1</td>\n",
       "      <td>20.14</td>\n",
       "      <td>4.8</td>\n",
       "      <td>155</td>\n",
       "      <td>0</td>\n",
       "    </tr>\n",
       "  </tbody>\n",
       "</table>\n",
       "</div>"
      ],
      "text/plain": [
       "   gender   age  hypertension  heart_disease    bmi  HbA1c_level  \\\n",
       "0  Female  80.0             0              1  25.19          6.6   \n",
       "1  Female  54.0             0              0  27.32          6.6   \n",
       "2    Male  28.0             0              0  27.32          5.7   \n",
       "3  Female  36.0             0              0  23.45          5.0   \n",
       "4    Male  76.0             1              1  20.14          4.8   \n",
       "\n",
       "   blood_glucose_level  diabetes  \n",
       "0                  140         0  \n",
       "1                   80         0  \n",
       "2                  158         0  \n",
       "3                  155         0  \n",
       "4                  155         0  "
      ]
     },
     "execution_count": 16,
     "metadata": {},
     "output_type": "execute_result"
    }
   ],
   "source": [
    "data = df.drop('smoking_history', axis=1)\n",
    "data.head()"
   ]
  },
  {
   "cell_type": "markdown",
   "id": "6b6e6a49",
   "metadata": {},
   "source": [
    "Переведем категориальные переменные признака в количественные. "
   ]
  },
  {
   "cell_type": "code",
   "execution_count": 17,
   "id": "09783555",
   "metadata": {},
   "outputs": [],
   "source": [
    "data['gender'] = pd.get_dummies(data['gender'], drop_first=True)"
   ]
  },
  {
   "cell_type": "code",
   "execution_count": 18,
   "id": "144111be",
   "metadata": {},
   "outputs": [
    {
     "data": {
      "text/html": [
       "<div>\n",
       "<style scoped>\n",
       "    .dataframe tbody tr th:only-of-type {\n",
       "        vertical-align: middle;\n",
       "    }\n",
       "\n",
       "    .dataframe tbody tr th {\n",
       "        vertical-align: top;\n",
       "    }\n",
       "\n",
       "    .dataframe thead th {\n",
       "        text-align: right;\n",
       "    }\n",
       "</style>\n",
       "<table border=\"1\" class=\"dataframe\">\n",
       "  <thead>\n",
       "    <tr style=\"text-align: right;\">\n",
       "      <th></th>\n",
       "      <th>gender</th>\n",
       "      <th>age</th>\n",
       "      <th>hypertension</th>\n",
       "      <th>heart_disease</th>\n",
       "      <th>bmi</th>\n",
       "      <th>HbA1c_level</th>\n",
       "      <th>blood_glucose_level</th>\n",
       "      <th>diabetes</th>\n",
       "    </tr>\n",
       "  </thead>\n",
       "  <tbody>\n",
       "    <tr>\n",
       "      <th>0</th>\n",
       "      <td>0</td>\n",
       "      <td>80.0</td>\n",
       "      <td>0</td>\n",
       "      <td>1</td>\n",
       "      <td>25.19</td>\n",
       "      <td>6.6</td>\n",
       "      <td>140</td>\n",
       "      <td>0</td>\n",
       "    </tr>\n",
       "    <tr>\n",
       "      <th>1</th>\n",
       "      <td>0</td>\n",
       "      <td>54.0</td>\n",
       "      <td>0</td>\n",
       "      <td>0</td>\n",
       "      <td>27.32</td>\n",
       "      <td>6.6</td>\n",
       "      <td>80</td>\n",
       "      <td>0</td>\n",
       "    </tr>\n",
       "    <tr>\n",
       "      <th>2</th>\n",
       "      <td>1</td>\n",
       "      <td>28.0</td>\n",
       "      <td>0</td>\n",
       "      <td>0</td>\n",
       "      <td>27.32</td>\n",
       "      <td>5.7</td>\n",
       "      <td>158</td>\n",
       "      <td>0</td>\n",
       "    </tr>\n",
       "    <tr>\n",
       "      <th>3</th>\n",
       "      <td>0</td>\n",
       "      <td>36.0</td>\n",
       "      <td>0</td>\n",
       "      <td>0</td>\n",
       "      <td>23.45</td>\n",
       "      <td>5.0</td>\n",
       "      <td>155</td>\n",
       "      <td>0</td>\n",
       "    </tr>\n",
       "    <tr>\n",
       "      <th>4</th>\n",
       "      <td>1</td>\n",
       "      <td>76.0</td>\n",
       "      <td>1</td>\n",
       "      <td>1</td>\n",
       "      <td>20.14</td>\n",
       "      <td>4.8</td>\n",
       "      <td>155</td>\n",
       "      <td>0</td>\n",
       "    </tr>\n",
       "  </tbody>\n",
       "</table>\n",
       "</div>"
      ],
      "text/plain": [
       "   gender   age  hypertension  heart_disease    bmi  HbA1c_level  \\\n",
       "0       0  80.0             0              1  25.19          6.6   \n",
       "1       0  54.0             0              0  27.32          6.6   \n",
       "2       1  28.0             0              0  27.32          5.7   \n",
       "3       0  36.0             0              0  23.45          5.0   \n",
       "4       1  76.0             1              1  20.14          4.8   \n",
       "\n",
       "   blood_glucose_level  diabetes  \n",
       "0                  140         0  \n",
       "1                   80         0  \n",
       "2                  158         0  \n",
       "3                  155         0  \n",
       "4                  155         0  "
      ]
     },
     "execution_count": 18,
     "metadata": {},
     "output_type": "execute_result"
    }
   ],
   "source": [
    "data.head()"
   ]
  },
  {
   "cell_type": "code",
   "execution_count": 19,
   "id": "9f6ea730",
   "metadata": {},
   "outputs": [
    {
     "name": "stdout",
     "output_type": "stream",
     "text": [
      "<class 'pandas.core.frame.DataFrame'>\n",
      "Int64Index: 96128 entries, 0 to 99981\n",
      "Data columns (total 8 columns):\n",
      " #   Column               Non-Null Count  Dtype  \n",
      "---  ------               --------------  -----  \n",
      " 0   gender               96128 non-null  uint8  \n",
      " 1   age                  96128 non-null  float64\n",
      " 2   hypertension         96128 non-null  int64  \n",
      " 3   heart_disease        96128 non-null  int64  \n",
      " 4   bmi                  96128 non-null  float64\n",
      " 5   HbA1c_level          96128 non-null  float64\n",
      " 6   blood_glucose_level  96128 non-null  int64  \n",
      " 7   diabetes             96128 non-null  int64  \n",
      "dtypes: float64(3), int64(4), uint8(1)\n",
      "memory usage: 6.0 MB\n"
     ]
    }
   ],
   "source": [
    "data.info()"
   ]
  },
  {
   "cell_type": "markdown",
   "id": "155835b0",
   "metadata": {},
   "source": [
    "Произвели удаление лишних столбцов и кодирование категориальных переменных."
   ]
  },
  {
   "cell_type": "markdown",
   "id": "3f3e6257",
   "metadata": {},
   "source": [
    "### Разделение выборки"
   ]
  },
  {
   "cell_type": "markdown",
   "id": "a77ce025",
   "metadata": {},
   "source": [
    "Разделим данные на обучающую выборку, валидационную для подбора гиперпараметров и тестовую, на которой мы проверим нашу модель. Тестовую выборку до конца трогать не будем, на ней отработаем лучшую модель.\n",
    "\n",
    "Для начала получим валидационную выборку 20% и оставшиеся 80% разделим еще раз для получения тестовой выборки. Обучение будем проводить на 60% данных."
   ]
  },
  {
   "cell_type": "code",
   "execution_count": 20,
   "id": "2cd9459e",
   "metadata": {},
   "outputs": [],
   "source": [
    "X = data.drop('diabetes', axis=1)\n",
    "y = data['diabetes']"
   ]
  },
  {
   "cell_type": "code",
   "execution_count": 21,
   "id": "ab76afde",
   "metadata": {},
   "outputs": [],
   "source": [
    "X_df, X_valid, y_df, y_valid = ( \n",
    "                                train_test_split(\n",
    "                                X, y, test_size=0.20, random_state=42)\n",
    ")"
   ]
  },
  {
   "cell_type": "code",
   "execution_count": 22,
   "id": "11f75589",
   "metadata": {},
   "outputs": [],
   "source": [
    "X_train, X_test, y_train, y_test = ( \n",
    "                                train_test_split(\n",
    "                                X_df, y_df, test_size=0.25, random_state=42)\n",
    ")"
   ]
  },
  {
   "cell_type": "code",
   "execution_count": 23,
   "id": "64cc922f",
   "metadata": {},
   "outputs": [
    {
     "name": "stdout",
     "output_type": "stream",
     "text": [
      "Количество образцов обучающей выборки: 57676\n",
      "Количество образцов валидационной выборки: 19226\n",
      "Количество образцов тестовой выборки: 19226\n",
      "Сумма выборок: 96128\n",
      "\n",
      "Количество образцов подготовленной выборки (контрольная сумма): 96128\n"
     ]
    }
   ],
   "source": [
    "print('Количество образцов обучающей выборки:', len(X_train))\n",
    "print('Количество образцов валидационной выборки:', len(X_valid))\n",
    "print('Количество образцов тестовой выборки:', len(X_test))\n",
    "print('Сумма выборок:', len(X_train) + len(X_test) + len(X_valid))\n",
    "print()\n",
    "print('Количество образцов подготовленной выборки (контрольная сумма):', len(data))"
   ]
  },
  {
   "cell_type": "markdown",
   "id": "cd072cf1",
   "metadata": {},
   "source": [
    "Выборку разделили, можем переходить к пробному обучению моделей. Посмотрим на результаты, оценивать модели будем по F1 мере - она является хорошим кандидатом на формальную метрику оценки качества классификатора. Она сводит к одному числу две других основополагающих метрики: точность и полноту (precision и recall)"
   ]
  },
  {
   "cell_type": "markdown",
   "id": "76f63ca6",
   "metadata": {},
   "source": [
    "## Масштабирование\n",
    "\n",
    "Масштабировать признаки на всем датасете может привести к утечке данных. Обучать scaler нужно только на трейне."
   ]
  },
  {
   "cell_type": "code",
   "execution_count": 24,
   "id": "1f3350ac",
   "metadata": {},
   "outputs": [
    {
     "data": {
      "text/html": [
       "<div>\n",
       "<style scoped>\n",
       "    .dataframe tbody tr th:only-of-type {\n",
       "        vertical-align: middle;\n",
       "    }\n",
       "\n",
       "    .dataframe tbody tr th {\n",
       "        vertical-align: top;\n",
       "    }\n",
       "\n",
       "    .dataframe thead th {\n",
       "        text-align: right;\n",
       "    }\n",
       "</style>\n",
       "<table border=\"1\" class=\"dataframe\">\n",
       "  <thead>\n",
       "    <tr style=\"text-align: right;\">\n",
       "      <th></th>\n",
       "      <th>gender</th>\n",
       "      <th>age</th>\n",
       "      <th>hypertension</th>\n",
       "      <th>heart_disease</th>\n",
       "      <th>bmi</th>\n",
       "      <th>HbA1c_level</th>\n",
       "      <th>blood_glucose_level</th>\n",
       "    </tr>\n",
       "  </thead>\n",
       "  <tbody>\n",
       "    <tr>\n",
       "      <th>63423</th>\n",
       "      <td>0</td>\n",
       "      <td>0.454520</td>\n",
       "      <td>0</td>\n",
       "      <td>0</td>\n",
       "      <td>0.145200</td>\n",
       "      <td>-1.897801</td>\n",
       "      <td>-1.299620</td>\n",
       "    </tr>\n",
       "    <tr>\n",
       "      <th>83565</th>\n",
       "      <td>0</td>\n",
       "      <td>0.098726</td>\n",
       "      <td>0</td>\n",
       "      <td>0</td>\n",
       "      <td>-0.832125</td>\n",
       "      <td>0.989252</td>\n",
       "      <td>0.480973</td>\n",
       "    </tr>\n",
       "    <tr>\n",
       "      <th>49689</th>\n",
       "      <td>1</td>\n",
       "      <td>-1.724722</td>\n",
       "      <td>0</td>\n",
       "      <td>0</td>\n",
       "      <td>-0.903096</td>\n",
       "      <td>0.523598</td>\n",
       "      <td>0.505365</td>\n",
       "    </tr>\n",
       "    <tr>\n",
       "      <th>90229</th>\n",
       "      <td>0</td>\n",
       "      <td>-0.568389</td>\n",
       "      <td>0</td>\n",
       "      <td>0</td>\n",
       "      <td>-0.461008</td>\n",
       "      <td>-0.966494</td>\n",
       "      <td>-0.933745</td>\n",
       "    </tr>\n",
       "    <tr>\n",
       "      <th>25416</th>\n",
       "      <td>1</td>\n",
       "      <td>-0.790761</td>\n",
       "      <td>0</td>\n",
       "      <td>0</td>\n",
       "      <td>-1.247599</td>\n",
       "      <td>-0.687102</td>\n",
       "      <td>0.041923</td>\n",
       "    </tr>\n",
       "  </tbody>\n",
       "</table>\n",
       "</div>"
      ],
      "text/plain": [
       "       gender       age  hypertension  heart_disease       bmi  HbA1c_level  \\\n",
       "63423       0  0.454520             0              0  0.145200    -1.897801   \n",
       "83565       0  0.098726             0              0 -0.832125     0.989252   \n",
       "49689       1 -1.724722             0              0 -0.903096     0.523598   \n",
       "90229       0 -0.568389             0              0 -0.461008    -0.966494   \n",
       "25416       1 -0.790761             0              0 -1.247599    -0.687102   \n",
       "\n",
       "       blood_glucose_level  \n",
       "63423            -1.299620  \n",
       "83565             0.480973  \n",
       "49689             0.505365  \n",
       "90229            -0.933745  \n",
       "25416             0.041923  "
      ]
     },
     "execution_count": 24,
     "metadata": {},
     "output_type": "execute_result"
    }
   ],
   "source": [
    "col = ['age', 'bmi', 'HbA1c_level', 'blood_glucose_level']\n",
    "scaler = StandardScaler()\n",
    "scaler.fit(X_train[col])\n",
    "X_train[col] = scaler.transform(X_train[col])\n",
    "X_train.head()"
   ]
  },
  {
   "cell_type": "markdown",
   "id": "c4c6b11d",
   "metadata": {},
   "source": [
    "Применим на валидационнуб выборку scaler, обученный на трейне."
   ]
  },
  {
   "cell_type": "code",
   "execution_count": 25,
   "id": "d97ceb19",
   "metadata": {},
   "outputs": [
    {
     "data": {
      "text/html": [
       "<div>\n",
       "<style scoped>\n",
       "    .dataframe tbody tr th:only-of-type {\n",
       "        vertical-align: middle;\n",
       "    }\n",
       "\n",
       "    .dataframe tbody tr th {\n",
       "        vertical-align: top;\n",
       "    }\n",
       "\n",
       "    .dataframe thead th {\n",
       "        text-align: right;\n",
       "    }\n",
       "</style>\n",
       "<table border=\"1\" class=\"dataframe\">\n",
       "  <thead>\n",
       "    <tr style=\"text-align: right;\">\n",
       "      <th></th>\n",
       "      <th>gender</th>\n",
       "      <th>age</th>\n",
       "      <th>hypertension</th>\n",
       "      <th>heart_disease</th>\n",
       "      <th>bmi</th>\n",
       "      <th>HbA1c_level</th>\n",
       "      <th>blood_glucose_level</th>\n",
       "    </tr>\n",
       "  </thead>\n",
       "  <tbody>\n",
       "    <tr>\n",
       "      <th>2547</th>\n",
       "      <td>0</td>\n",
       "      <td>-1.635773</td>\n",
       "      <td>0</td>\n",
       "      <td>0</td>\n",
       "      <td>-1.799100</td>\n",
       "      <td>-0.966494</td>\n",
       "      <td>-1.177661</td>\n",
       "    </tr>\n",
       "    <tr>\n",
       "      <th>47503</th>\n",
       "      <td>0</td>\n",
       "      <td>-0.701812</td>\n",
       "      <td>0</td>\n",
       "      <td>0</td>\n",
       "      <td>-1.283084</td>\n",
       "      <td>-1.432148</td>\n",
       "      <td>-1.299620</td>\n",
       "    </tr>\n",
       "    <tr>\n",
       "      <th>15484</th>\n",
       "      <td>0</td>\n",
       "      <td>-1.635773</td>\n",
       "      <td>0</td>\n",
       "      <td>0</td>\n",
       "      <td>-1.873028</td>\n",
       "      <td>-0.500840</td>\n",
       "      <td>0.480973</td>\n",
       "    </tr>\n",
       "    <tr>\n",
       "      <th>92915</th>\n",
       "      <td>1</td>\n",
       "      <td>1.566379</td>\n",
       "      <td>0</td>\n",
       "      <td>1</td>\n",
       "      <td>0.374376</td>\n",
       "      <td>-1.432148</td>\n",
       "      <td>-1.177661</td>\n",
       "    </tr>\n",
       "    <tr>\n",
       "      <th>67261</th>\n",
       "      <td>1</td>\n",
       "      <td>-0.835235</td>\n",
       "      <td>0</td>\n",
       "      <td>0</td>\n",
       "      <td>-0.925274</td>\n",
       "      <td>0.896121</td>\n",
       "      <td>-0.201994</td>\n",
       "    </tr>\n",
       "  </tbody>\n",
       "</table>\n",
       "</div>"
      ],
      "text/plain": [
       "       gender       age  hypertension  heart_disease       bmi  HbA1c_level  \\\n",
       "2547        0 -1.635773             0              0 -1.799100    -0.966494   \n",
       "47503       0 -0.701812             0              0 -1.283084    -1.432148   \n",
       "15484       0 -1.635773             0              0 -1.873028    -0.500840   \n",
       "92915       1  1.566379             0              1  0.374376    -1.432148   \n",
       "67261       1 -0.835235             0              0 -0.925274     0.896121   \n",
       "\n",
       "       blood_glucose_level  \n",
       "2547             -1.177661  \n",
       "47503            -1.299620  \n",
       "15484             0.480973  \n",
       "92915            -1.177661  \n",
       "67261            -0.201994  "
      ]
     },
     "execution_count": 25,
     "metadata": {},
     "output_type": "execute_result"
    }
   ],
   "source": [
    "X_valid[col] = scaler.transform(X_valid[col])\n",
    "X_valid.head()"
   ]
  },
  {
   "cell_type": "markdown",
   "id": "a18581c2",
   "metadata": {},
   "source": [
    "Применим на тестовую выборку scaler, обученный на трейне."
   ]
  },
  {
   "cell_type": "code",
   "execution_count": 26,
   "id": "79c9ef71",
   "metadata": {},
   "outputs": [
    {
     "data": {
      "text/html": [
       "<div>\n",
       "<style scoped>\n",
       "    .dataframe tbody tr th:only-of-type {\n",
       "        vertical-align: middle;\n",
       "    }\n",
       "\n",
       "    .dataframe tbody tr th {\n",
       "        vertical-align: top;\n",
       "    }\n",
       "\n",
       "    .dataframe thead th {\n",
       "        text-align: right;\n",
       "    }\n",
       "</style>\n",
       "<table border=\"1\" class=\"dataframe\">\n",
       "  <thead>\n",
       "    <tr style=\"text-align: right;\">\n",
       "      <th></th>\n",
       "      <th>gender</th>\n",
       "      <th>age</th>\n",
       "      <th>hypertension</th>\n",
       "      <th>heart_disease</th>\n",
       "      <th>bmi</th>\n",
       "      <th>HbA1c_level</th>\n",
       "      <th>blood_glucose_level</th>\n",
       "    </tr>\n",
       "  </thead>\n",
       "  <tbody>\n",
       "    <tr>\n",
       "      <th>41130</th>\n",
       "      <td>1</td>\n",
       "      <td>0.232149</td>\n",
       "      <td>0</td>\n",
       "      <td>0</td>\n",
       "      <td>0.331498</td>\n",
       "      <td>-1.897801</td>\n",
       "      <td>-1.177661</td>\n",
       "    </tr>\n",
       "    <tr>\n",
       "      <th>5433</th>\n",
       "      <td>0</td>\n",
       "      <td>-0.434966</td>\n",
       "      <td>0</td>\n",
       "      <td>0</td>\n",
       "      <td>0.057965</td>\n",
       "      <td>-1.897801</td>\n",
       "      <td>0.529757</td>\n",
       "    </tr>\n",
       "    <tr>\n",
       "      <th>93716</th>\n",
       "      <td>0</td>\n",
       "      <td>-1.546825</td>\n",
       "      <td>0</td>\n",
       "      <td>0</td>\n",
       "      <td>-0.999202</td>\n",
       "      <td>-0.966494</td>\n",
       "      <td>-1.177661</td>\n",
       "    </tr>\n",
       "    <tr>\n",
       "      <th>68137</th>\n",
       "      <td>1</td>\n",
       "      <td>1.388481</td>\n",
       "      <td>1</td>\n",
       "      <td>0</td>\n",
       "      <td>0.001780</td>\n",
       "      <td>0.430467</td>\n",
       "      <td>-0.201994</td>\n",
       "    </tr>\n",
       "    <tr>\n",
       "      <th>99020</th>\n",
       "      <td>0</td>\n",
       "      <td>-0.123646</td>\n",
       "      <td>0</td>\n",
       "      <td>0</td>\n",
       "      <td>-1.068694</td>\n",
       "      <td>0.430467</td>\n",
       "      <td>0.041923</td>\n",
       "    </tr>\n",
       "  </tbody>\n",
       "</table>\n",
       "</div>"
      ],
      "text/plain": [
       "       gender       age  hypertension  heart_disease       bmi  HbA1c_level  \\\n",
       "41130       1  0.232149             0              0  0.331498    -1.897801   \n",
       "5433        0 -0.434966             0              0  0.057965    -1.897801   \n",
       "93716       0 -1.546825             0              0 -0.999202    -0.966494   \n",
       "68137       1  1.388481             1              0  0.001780     0.430467   \n",
       "99020       0 -0.123646             0              0 -1.068694     0.430467   \n",
       "\n",
       "       blood_glucose_level  \n",
       "41130            -1.177661  \n",
       "5433              0.529757  \n",
       "93716            -1.177661  \n",
       "68137            -0.201994  \n",
       "99020             0.041923  "
      ]
     },
     "execution_count": 26,
     "metadata": {},
     "output_type": "execute_result"
    }
   ],
   "source": [
    "X_test[col] = scaler.transform(X_test[col])\n",
    "X_test.head()"
   ]
  },
  {
   "cell_type": "markdown",
   "id": "1d3e9d72",
   "metadata": {},
   "source": [
    "## Пробное обучение моделей без учета дисбаланса классов\n"
   ]
  },
  {
   "cell_type": "markdown",
   "id": "ad1ae607",
   "metadata": {},
   "source": [
    "### Логистическая регрессия \n",
    "\n",
    "Начнем за базовой логистической регрессии. Вес классов не указываем."
   ]
  },
  {
   "cell_type": "code",
   "execution_count": 27,
   "id": "7a3bec00",
   "metadata": {},
   "outputs": [
    {
     "name": "stdout",
     "output_type": "stream",
     "text": [
      "F1: 0.7173689619732785\n"
     ]
    }
   ],
   "source": [
    "model = LogisticRegression(random_state=42, solver='liblinear')\n",
    "model.fit(X_train, y_train)\n",
    "predicted_valid = model.predict(X_valid)\n",
    "print(\"F1:\", f1_score(y_valid, predicted_valid))"
   ]
  },
  {
   "cell_type": "markdown",
   "id": "462816ec",
   "metadata": {},
   "source": [
    "Наблюдаем уверенный показатель. Попробуем указать `class_weight='balanced'`"
   ]
  },
  {
   "cell_type": "code",
   "execution_count": 28,
   "id": "29f82c6e",
   "metadata": {},
   "outputs": [
    {
     "name": "stdout",
     "output_type": "stream",
     "text": [
      "F1: 0.5693402577418735\n"
     ]
    }
   ],
   "source": [
    "model = LogisticRegression(random_state=42, solver='liblinear', class_weight='balanced')\n",
    "model.fit(X_train, y_train)\n",
    "predicted_valid = model.predict(X_valid)\n",
    "print(\"F1:\", f1_score(y_valid, predicted_valid))"
   ]
  },
  {
   "cell_type": "markdown",
   "id": "54bd7df3",
   "metadata": {},
   "source": [
    "Показатель ухудшился, сейчас не будем менять гиперпараметры, вернем к этому после того, как посмотрим на все алгоритмы."
   ]
  },
  {
   "cell_type": "markdown",
   "id": "7a408cdd",
   "metadata": {},
   "source": [
    "### Случайные леса"
   ]
  },
  {
   "cell_type": "code",
   "execution_count": 29,
   "id": "3816f609",
   "metadata": {},
   "outputs": [
    {
     "name": "stdout",
     "output_type": "stream",
     "text": [
      "F1: 0.7755517826825129\n"
     ]
    }
   ],
   "source": [
    "model = RandomForestClassifier()\n",
    "model.fit(X_train, y_train)\n",
    "predicted_valid = model.predict(X_valid)\n",
    "print(\"F1:\", f1_score(y_valid, predicted_valid))"
   ]
  },
  {
   "cell_type": "markdown",
   "id": "809a0ed5",
   "metadata": {},
   "source": [
    "Показатель так же имеет хороший показатель, укажем так же `class_weight='balanced'`"
   ]
  },
  {
   "cell_type": "code",
   "execution_count": 30,
   "id": "6508af16",
   "metadata": {},
   "outputs": [
    {
     "name": "stdout",
     "output_type": "stream",
     "text": [
      "F1: 0.7742372881355932\n"
     ]
    }
   ],
   "source": [
    "model = RandomForestClassifier(class_weight='balanced')\n",
    "model.fit(X_train, y_train)\n",
    "predicted_valid = model.predict(X_valid)\n",
    "print(\"F1:\", f1_score(y_valid, predicted_valid))"
   ]
  },
  {
   "cell_type": "markdown",
   "id": "cc52441a",
   "metadata": {},
   "source": [
    "Ухудшили показатель на одну тысячную. Перейдем к следующему алгоритму, гиперпараметры подберем позже"
   ]
  },
  {
   "cell_type": "markdown",
   "id": "f3f289f6",
   "metadata": {},
   "source": [
    "### AdaBoost"
   ]
  },
  {
   "cell_type": "code",
   "execution_count": 31,
   "id": "344dbf69",
   "metadata": {},
   "outputs": [
    {
     "name": "stdout",
     "output_type": "stream",
     "text": [
      "F1: 0.7956839540549948\n"
     ]
    }
   ],
   "source": [
    "model = AdaBoostClassifier()\n",
    "model.fit(X_train, y_train)\n",
    "predicted_valid = model.predict(X_valid)\n",
    "print(\"F1:\", f1_score(y_valid, predicted_valid))"
   ]
  },
  {
   "cell_type": "markdown",
   "id": "fdf7b824",
   "metadata": {},
   "source": [
    "Среди всех моделей у AdaBoost лучшие показатели"
   ]
  },
  {
   "cell_type": "markdown",
   "id": "5788bf44",
   "metadata": {},
   "source": [
    "Мы попробовали обучить модели при  дисбалансе классов. Теперь попробуем избавится от этой проблемы, подобрать гиперпараметры моделей."
   ]
  },
  {
   "cell_type": "markdown",
   "id": "0519cd49",
   "metadata": {},
   "source": [
    "##  Решение дисбаланса классов и улучшение моделей"
   ]
  },
  {
   "cell_type": "markdown",
   "id": "659f1718",
   "metadata": {},
   "source": [
    "В наших данных имеется дисбаланс классов. Взглянем еще раз."
   ]
  },
  {
   "cell_type": "code",
   "execution_count": 32,
   "id": "156dfd65",
   "metadata": {},
   "outputs": [
    {
     "data": {
      "text/html": [
       "<div>\n",
       "<style scoped>\n",
       "    .dataframe tbody tr th:only-of-type {\n",
       "        vertical-align: middle;\n",
       "    }\n",
       "\n",
       "    .dataframe tbody tr th {\n",
       "        vertical-align: top;\n",
       "    }\n",
       "\n",
       "    .dataframe thead th {\n",
       "        text-align: right;\n",
       "    }\n",
       "</style>\n",
       "<table border=\"1\" class=\"dataframe\">\n",
       "  <thead>\n",
       "    <tr style=\"text-align: right;\">\n",
       "      <th></th>\n",
       "      <th>diabetes</th>\n",
       "    </tr>\n",
       "  </thead>\n",
       "  <tbody>\n",
       "    <tr>\n",
       "      <th>0</th>\n",
       "      <td>87646</td>\n",
       "    </tr>\n",
       "    <tr>\n",
       "      <th>1</th>\n",
       "      <td>8482</td>\n",
       "    </tr>\n",
       "  </tbody>\n",
       "</table>\n",
       "</div>"
      ],
      "text/plain": [
       "   diabetes\n",
       "0     87646\n",
       "1      8482"
      ]
     },
     "execution_count": 32,
     "metadata": {},
     "output_type": "execute_result"
    }
   ],
   "source": [
    "y.value_counts().to_frame()"
   ]
  },
  {
   "cell_type": "markdown",
   "id": "35c92c06",
   "metadata": {},
   "source": [
    "Попробуем решить эту проблему, двумя способами. Выберем лучший и на нем будем улучшать нашу модель. \n",
    "\n",
    "---"
   ]
  },
  {
   "cell_type": "markdown",
   "id": "9a3ca763",
   "metadata": {},
   "source": [
    "### Увеличение выборки upsampling\n",
    "Для этого применим функцию, выполняющую следующие преобразования:\n",
    "\n",
    "- разделим обучающую выборку на отрицательные и положительные объекты\n",
    "- скопируем несколько раз положительные объекты\n",
    "- с учётом полученных данных создадим новую обучающую выборку\n",
    "- перемешаем данные"
   ]
  },
  {
   "cell_type": "code",
   "execution_count": 33,
   "id": "9f3d2422",
   "metadata": {},
   "outputs": [],
   "source": [
    "def upsample(X, y, repeat):\n",
    "    features_zeros = X[y == 0]\n",
    "    features_ones = X[y == 1]\n",
    "    target_zeros = y[y == 0]\n",
    "    target_ones = y[y == 1]\n",
    "\n",
    "    X_upsampled = pd.concat([features_zeros] + [features_ones] * repeat)\n",
    "    y_upsampled = pd.concat([target_zeros] + [target_ones] * repeat)\n",
    "    \n",
    "    X_upsampled, y_upsampled = shuffle(\n",
    "    X_upsampled, y_upsampled, random_state=12345)\n",
    "    \n",
    "    return X_upsampled, y_upsampled\n",
    "\n",
    "X_upsampled, y_upsampled = upsample(X_train, y_train, 3)"
   ]
  },
  {
   "cell_type": "markdown",
   "id": "39abfb88",
   "metadata": {},
   "source": [
    "### Логистическая регрессия"
   ]
  },
  {
   "cell_type": "code",
   "execution_count": 34,
   "id": "7dee63c1",
   "metadata": {},
   "outputs": [
    {
     "name": "stdout",
     "output_type": "stream",
     "text": [
      "F1: 0.6870483602001111\n"
     ]
    }
   ],
   "source": [
    "model = LogisticRegression()\n",
    "model.fit(X_upsampled,y_upsampled)\n",
    "predicted_valid = model.predict(X_valid)\n",
    "print(\"F1:\", f1_score(y_valid, predicted_valid))"
   ]
  },
  {
   "cell_type": "markdown",
   "id": "4b911885",
   "metadata": {},
   "source": [
    "Наблюдаем пониженные результаты в сравнение с предыдущими моделями логистической регрессии."
   ]
  },
  {
   "cell_type": "markdown",
   "id": "77eaaf8a",
   "metadata": {},
   "source": [
    "### Случайные леса"
   ]
  },
  {
   "cell_type": "code",
   "execution_count": 35,
   "id": "f46300ac",
   "metadata": {},
   "outputs": [
    {
     "name": "stdout",
     "output_type": "stream",
     "text": [
      "F1: 0.756430612892982\n"
     ]
    }
   ],
   "source": [
    "model = RandomForestClassifier()\n",
    "model.fit(X_upsampled, y_upsampled)\n",
    "predicted_valid = model.predict(X_valid)\n",
    "print(\"F1:\", f1_score(y_valid, predicted_valid))"
   ]
  },
  {
   "cell_type": "markdown",
   "id": "a68ec3fc",
   "metadata": {},
   "source": [
    " Случайне леса так же показали результат хуже чем предыдущие модели"
   ]
  },
  {
   "cell_type": "markdown",
   "id": "6a408a2c",
   "metadata": {},
   "source": [
    "### AdaBoost"
   ]
  },
  {
   "cell_type": "code",
   "execution_count": 36,
   "id": "bd18aed6",
   "metadata": {},
   "outputs": [
    {
     "name": "stdout",
     "output_type": "stream",
     "text": [
      "F1: 0.7691844718627747\n"
     ]
    }
   ],
   "source": [
    "model = AdaBoostClassifier()\n",
    "model.fit(X_upsampled, y_upsampled)\n",
    "predicted_valid = model.predict(X_valid)\n",
    "print(\"F1:\", f1_score(y_valid, predicted_valid))"
   ]
  },
  {
   "cell_type": "markdown",
   "id": "3e6e65f9",
   "metadata": {},
   "source": [
    "Как и остальные модели, AdaBoost показал результаты незначительно хуже чем в прошлой модели. Но лучше остальных по изменненым данным."
   ]
  },
  {
   "cell_type": "markdown",
   "id": "752dd84e",
   "metadata": {},
   "source": [
    "---\n",
    "### Уменьшение выборки downsampling\n",
    "Для этого применим функцию, выполняющую следующие преобразования:\n",
    "\n",
    "- разделим обучающую выборку на отрицательные и положительные объекты\n",
    "- случайным образом отбросим часть из отрицательных объектов\n",
    "- с учётом полученных данных создадим новую обучающую выборку\n",
    "- перемешаем данные"
   ]
  },
  {
   "cell_type": "code",
   "execution_count": 37,
   "id": "2ea45ec2",
   "metadata": {},
   "outputs": [],
   "source": [
    "def downsample(X, y, fraction):\n",
    "    X_zeros = X[y == 0]\n",
    "    X_ones = X[y == 1]\n",
    "    y_zeros = y[y == 0]\n",
    "    y_ones = y[y == 1]\n",
    "    \n",
    "    X_downsampled = pd.concat(\n",
    "        [X_zeros.sample(frac=fraction, random_state=12345)] + [X_ones])\n",
    "    y_downsampled = pd.concat(\n",
    "        [y_zeros.sample(frac=fraction, random_state=12345)] + [y_ones])\n",
    "    \n",
    "    X_downsampled, y_downsampled = shuffle(\n",
    "        X_downsampled, y_downsampled, random_state=12345)\n",
    "    \n",
    "    return X_downsampled, y_downsampled\n",
    "\n",
    "X_downsampled, y_downsampled = downsample(X_train, y_train, 0.39)"
   ]
  },
  {
   "cell_type": "markdown",
   "id": "d839c03b",
   "metadata": {},
   "source": [
    "### Логистическая регрессия"
   ]
  },
  {
   "cell_type": "code",
   "execution_count": 38,
   "id": "4287ec88",
   "metadata": {},
   "outputs": [
    {
     "name": "stdout",
     "output_type": "stream",
     "text": [
      "F1: 0.7013138686131387\n"
     ]
    }
   ],
   "source": [
    "model = LogisticRegression()\n",
    "model.fit(X_downsampled,y_downsampled)\n",
    "predicted_valid = model.predict(X_valid)\n",
    "print(\"F1:\", f1_score(y_valid, predicted_valid))"
   ]
  },
  {
   "cell_type": "markdown",
   "id": "08a85a7e",
   "metadata": {},
   "source": [
    "### Случайные леса"
   ]
  },
  {
   "cell_type": "code",
   "execution_count": 39,
   "id": "4be05f96",
   "metadata": {},
   "outputs": [
    {
     "name": "stdout",
     "output_type": "stream",
     "text": [
      "F1: 0.7463746670612608\n"
     ]
    }
   ],
   "source": [
    "model = RandomForestClassifier()\n",
    "model.fit(X_downsampled, y_downsampled)\n",
    "predicted_valid = model.predict(X_valid)\n",
    "print(\"F1:\", f1_score(y_valid, predicted_valid))"
   ]
  },
  {
   "cell_type": "markdown",
   "id": "97069d11",
   "metadata": {},
   "source": [
    "### AdaBoost"
   ]
  },
  {
   "cell_type": "code",
   "execution_count": 40,
   "id": "9cf0a8a2",
   "metadata": {},
   "outputs": [
    {
     "name": "stdout",
     "output_type": "stream",
     "text": [
      "F1: 0.7858282796042131\n"
     ]
    }
   ],
   "source": [
    "model = AdaBoostClassifier()\n",
    "model.fit(X_downsampled, y_downsampled)\n",
    "predicted_valid = model.predict(X_valid)\n",
    "print(\"F1:\", f1_score(y_valid, predicted_valid))"
   ]
  },
  {
   "cell_type": "markdown",
   "id": "1f16fb29",
   "metadata": {},
   "source": [
    "В итоге с downsampling мы превзошли результаты двух из трех моделей в данных с upsampling. Так что остановимся на downsampling уменьшении выборки. На ней обучим наши модели и подберем гиперпараметры."
   ]
  },
  {
   "cell_type": "markdown",
   "id": "5a0153c5",
   "metadata": {},
   "source": [
    "## Обучение моделей и настройка гиперпараметров\n",
    "Обучать модели будем на уменьшенной выборке, проверять параметры будем на валидационной выборке и оценивать по F1-мере.\n",
    "\n",
    "Параметры будем подбирать черезе GridSearchCV."
   ]
  },
  {
   "cell_type": "markdown",
   "id": "3c8d0bde",
   "metadata": {},
   "source": [
    "----\n",
    "Для начала настроим функцию для тестирования"
   ]
  },
  {
   "cell_type": "code",
   "execution_count": 55,
   "id": "c79de6e3",
   "metadata": {},
   "outputs": [],
   "source": [
    "def test_roc(model, X_valid, y_valid):\n",
    "    probabilities_valid = model.predict_proba(X_valid)\n",
    "    probabilities_one_valid = probabilities_valid[:, 1]\n",
    "\n",
    "    fpr, tpr, thresholds = roc_curve(y_valid, probabilities_one_valid) \n",
    "\n",
    "    plt.figure(figsize=(10, 10))\n",
    "    plt.plot(fpr, tpr, linestyle='-')\n",
    "    plt.plot([0, 1], [0, 1], linestyle='--')\n",
    "    plt.xlim([0.0, 1.0])\n",
    "    plt.ylim([0.0, 1.0])\n",
    "    plt.xlabel('False Positive Rate')\n",
    "    plt.ylabel('True Positive Rate')\n",
    "    plt.title('ROC-кривая')\n",
    "\n",
    "    plt.show()\n",
    "\n",
    "    auc_roc = roc_auc_score(y_valid, probabilities_one_valid)\n",
    "\n",
    "    print(\"AUC:\", auc_roc)"
   ]
  },
  {
   "cell_type": "markdown",
   "id": "8f8ac576",
   "metadata": {},
   "source": [
    "### Логистическая регрессия"
   ]
  },
  {
   "cell_type": "code",
   "execution_count": 44,
   "id": "06b2ee12",
   "metadata": {},
   "outputs": [
    {
     "data": {
      "text/plain": [
       "GridSearchCV(cv=5, estimator=LogisticRegression(random_state=42),\n",
       "             param_grid={'C': [0.5, 1, 1.5], 'class_weight': [None, 'balanced'],\n",
       "                         'intercept_scaling': [0.5, 1.0, 1.5],\n",
       "                         'l1_ratio': [0, 0.25, 0.5, 0.75, 1],\n",
       "                         'solver': ['lbfgs', 'liblinear']},\n",
       "             scoring='f1')"
      ]
     },
     "execution_count": 44,
     "metadata": {},
     "output_type": "execute_result"
    }
   ],
   "source": [
    "param_grid = {\n",
    "                'intercept_scaling': [0.5, 1.0, 1.5],\n",
    "                'l1_ratio': [0, 0.25, 0.5, 0.75, 1],\n",
    "                'class_weight': [None, 'balanced'],\n",
    "                'C': [0.5, 1, 1.5],\n",
    "                'solver': ['lbfgs', 'liblinear']\n",
    "            }\n",
    "\n",
    "\n",
    "model = LogisticRegression(random_state=42)\n",
    "\n",
    "grid_search = GridSearchCV(model, param_grid, cv=5, scoring='f1')\n",
    "\n",
    "grid_search.fit(X_downsampled, y_downsampled)"
   ]
  },
  {
   "cell_type": "code",
   "execution_count": 46,
   "id": "8a9f5532",
   "metadata": {},
   "outputs": [
    {
     "data": {
      "text/plain": [
       "{'C': 1,\n",
       " 'class_weight': None,\n",
       " 'intercept_scaling': 0.5,\n",
       " 'l1_ratio': 0,\n",
       " 'solver': 'lbfgs'}"
      ]
     },
     "execution_count": 46,
     "metadata": {},
     "output_type": "execute_result"
    }
   ],
   "source": [
    "grid_search.best_params_"
   ]
  },
  {
   "cell_type": "markdown",
   "id": "07a9495b",
   "metadata": {},
   "source": [
    "Применим наши параметры и посмотрим результат:"
   ]
  },
  {
   "cell_type": "code",
   "execution_count": 47,
   "id": "e9398051",
   "metadata": {},
   "outputs": [
    {
     "name": "stdout",
     "output_type": "stream",
     "text": [
      "F1: 0.7013138686131387\n"
     ]
    }
   ],
   "source": [
    "model_logreg = LogisticRegression(\n",
    "                            C=1, \n",
    "                            class_weight=None, \n",
    "                            intercept_scaling=0.5, \n",
    "                            l1_ratio=0, \n",
    "                            solver='lbfgs'\n",
    "                           )\n",
    "model_logreg.fit(X_downsampled, y_downsampled)\n",
    "predicted_valid = model_logreg.predict(X_valid)\n",
    "print(\"F1:\", f1_score(y_valid, predicted_valid))"
   ]
  },
  {
   "cell_type": "markdown",
   "id": "97c4b84e",
   "metadata": {},
   "source": [
    "Посмотрим как модель ведет себя при тестировании."
   ]
  },
  {
   "cell_type": "code",
   "execution_count": 57,
   "id": "03292166",
   "metadata": {},
   "outputs": [
    {
     "data": {
      "image/png": "[encoded data removed]",
      "text/plain": [
       "<Figure size 1000x1000 with 1 Axes>"
      ]
     },
     "metadata": {},
     "output_type": "display_data"
    },
    {
     "name": "stdout",
     "output_type": "stream",
     "text": [
      "AUC: 0.9582672775349903\n"
     ]
    }
   ],
   "source": [
    "test_roc(model_logreg, X_valid, y_valid)"
   ]
  },
  {
   "cell_type": "markdown",
   "id": "24455d49",
   "metadata": {},
   "source": [
    "AUC показывает больше 0.5, наша модель лучше случайной и показывает отличной результат учитывая наше медицинское предсказывание."
   ]
  },
  {
   "cell_type": "markdown",
   "id": "1c03ecb1",
   "metadata": {},
   "source": [
    "### Случайные леса"
   ]
  },
  {
   "cell_type": "code",
   "execution_count": 58,
   "id": "42e80182",
   "metadata": {},
   "outputs": [
    {
     "data": {
      "text/plain": [
       "GridSearchCV(cv=5, estimator=RandomForestClassifier(random_state=42),\n",
       "             param_grid={'bootstrap': [True, False],\n",
       "                         'class_weight': [None, 'balanced'],\n",
       "                         'max_features': [2, 3, 4],\n",
       "                         'n_estimators': [30, 50, 75, 100],\n",
       "                         'oob_score': [True, False]},\n",
       "             scoring='f1')"
      ]
     },
     "execution_count": 58,
     "metadata": {},
     "output_type": "execute_result"
    }
   ],
   "source": [
    "param_grid = {\n",
    "                'n_estimators': [30, 50, 75,100],\n",
    "                'max_features': [2,3,4],\n",
    "                'bootstrap':[True,False],\n",
    "                'oob_score':[True,False],\n",
    "                'class_weight': [None, 'balanced']\n",
    "              } \n",
    "\n",
    "\n",
    "model = RandomForestClassifier(random_state=42)\n",
    "\n",
    "grid_search = GridSearchCV(model, param_grid, cv=5, scoring='f1')\n",
    "\n",
    "grid_search.fit(X_downsampled, y_downsampled)"
   ]
  },
  {
   "cell_type": "code",
   "execution_count": 59,
   "id": "6ca027ba",
   "metadata": {},
   "outputs": [
    {
     "data": {
      "text/plain": [
       "{'bootstrap': True,\n",
       " 'class_weight': None,\n",
       " 'max_features': 2,\n",
       " 'n_estimators': 50,\n",
       " 'oob_score': True}"
      ]
     },
     "execution_count": 59,
     "metadata": {},
     "output_type": "execute_result"
    }
   ],
   "source": [
    "grid_search.best_params_"
   ]
  },
  {
   "cell_type": "markdown",
   "id": "b9ac5ef9",
   "metadata": {},
   "source": [
    "Применим параметры"
   ]
  },
  {
   "cell_type": "code",
   "execution_count": 60,
   "id": "a3abba46",
   "metadata": {},
   "outputs": [
    {
     "name": "stdout",
     "output_type": "stream",
     "text": [
      "F1: 0.737841043890866\n"
     ]
    }
   ],
   "source": [
    "model_rand_forst = RandomForestClassifier(\n",
    "                            n_estimators=50,\n",
    "                            bootstrap=True, \n",
    "                            class_weight=None, \n",
    "                            max_features=2, \n",
    "                            oob_score=True\n",
    "                           )\n",
    "model_rand_forst.fit(X_downsampled, y_downsampled)\n",
    "predicted_valid = model_rand_forst.predict(X_valid)\n",
    "print(\"F1:\", f1_score(y_valid, predicted_valid))"
   ]
  },
  {
   "cell_type": "markdown",
   "id": "851f60e2",
   "metadata": {},
   "source": [
    "Взглянем на модель при тестировании."
   ]
  },
  {
   "cell_type": "code",
   "execution_count": 61,
   "id": "e760f6e7",
   "metadata": {},
   "outputs": [
    {
     "data": {
      "image/png": "[encoded data removed]",
      "text/plain": [
       "<Figure size 1000x1000 with 1 Axes>"
      ]
     },
     "metadata": {},
     "output_type": "display_data"
    },
    {
     "name": "stdout",
     "output_type": "stream",
     "text": [
      "AUC: 0.9651577279790943\n"
     ]
    }
   ],
   "source": [
    "test_roc(model_rand_forst, X_valid, y_valid)"
   ]
  },
  {
   "cell_type": "markdown",
   "id": "14e28fdf",
   "metadata": {},
   "source": [
    "AUC - 0.96. Модель на основе рандомных лесов так же лучше случайной модели и показывает хороший результат."
   ]
  },
  {
   "cell_type": "markdown",
   "id": "608a7f38",
   "metadata": {},
   "source": [
    "### AdaBoost"
   ]
  },
  {
   "cell_type": "code",
   "execution_count": 73,
   "id": "546c1659",
   "metadata": {},
   "outputs": [
    {
     "data": {
      "text/plain": [
       "GridSearchCV(cv=5, estimator=AdaBoostClassifier(random_state=42),\n",
       "             param_grid={'algorithm': ['SAMME', 'SAMME.R'],\n",
       "                         'learning_rate': [0.6, 0.8, 1, 1.2],\n",
       "                         'n_estimators': [30, 50, 65, 75, 100]},\n",
       "             scoring='f1')"
      ]
     },
     "execution_count": 73,
     "metadata": {},
     "output_type": "execute_result"
    }
   ],
   "source": [
    "param_grid = {\n",
    "                'n_estimators': [30, 50, 65, 75, 100],\n",
    "                'algorithm': ['SAMME', 'SAMME.R'],\n",
    "                'learning_rate': [0.6, 0.8, 1, 1.2]\n",
    "              } \n",
    "\n",
    "model = AdaBoostClassifier(random_state=42)\n",
    "\n",
    "grid_search = GridSearchCV(model, param_grid, cv=5, scoring='f1')\n",
    "grid_search.fit(X_train, y_train)"
   ]
  },
  {
   "cell_type": "code",
   "execution_count": 74,
   "id": "b4251fda",
   "metadata": {},
   "outputs": [
    {
     "data": {
      "text/plain": [
       "{'algorithm': 'SAMME.R', 'learning_rate': 1, 'n_estimators': 50}"
      ]
     },
     "execution_count": 74,
     "metadata": {},
     "output_type": "execute_result"
    }
   ],
   "source": [
    "grid_search.best_params_"
   ]
  },
  {
   "cell_type": "markdown",
   "id": "2ae31979",
   "metadata": {},
   "source": [
    "Применим полученные параметры к модели"
   ]
  },
  {
   "cell_type": "code",
   "execution_count": 82,
   "id": "c81311a4",
   "metadata": {},
   "outputs": [
    {
     "name": "stdout",
     "output_type": "stream",
     "text": [
      "F1: 0.7858282796042131\n"
     ]
    }
   ],
   "source": [
    "model_ada_boost = AdaBoostClassifier(\n",
    "                        n_estimators=50,\n",
    "                        algorithm='SAMME.R', \n",
    "                        learning_rate=1\n",
    "                           )\n",
    "model_ada_boost.fit(X_downsampled, y_downsampled)\n",
    "predicted_valid = model_ada_boost.predict(X_valid)\n",
    "print(\"F1:\", f1_score(y_valid, predicted_valid))"
   ]
  },
  {
   "cell_type": "markdown",
   "id": "dd355251",
   "metadata": {},
   "source": [
    "Посмотрим как модель ведет себя при тестировании."
   ]
  },
  {
   "cell_type": "code",
   "execution_count": 83,
   "id": "993a287f",
   "metadata": {},
   "outputs": [
    {
     "data": {
      "image/png": "[encoded data removed]",
      "text/plain": [
       "<Figure size 1000x1000 with 1 Axes>"
      ]
     },
     "metadata": {},
     "output_type": "display_data"
    },
    {
     "name": "stdout",
     "output_type": "stream",
     "text": [
      "AUC: 0.9768857791967636\n"
     ]
    }
   ],
   "source": [
    "test_roc(model_ada_boost, X_valid, y_valid)"
   ]
  },
  {
   "cell_type": "markdown",
   "id": "23355bc3",
   "metadata": {},
   "source": [
    "Получили очень хороший результат. Модель лучше случайной и так же лучше остальных моделей классификации."
   ]
  },
  {
   "cell_type": "markdown",
   "id": "f69dff5b",
   "metadata": {},
   "source": [
    "## Тестирование моделей и проверка адекватности модели"
   ]
  },
  {
   "cell_type": "code",
   "execution_count": 112,
   "id": "c61d245a",
   "metadata": {},
   "outputs": [],
   "source": [
    "#для удобства вывода в дальнейшем - соберем показатели в списки и создадим функцию их вывода\n",
    "\n",
    "name_model = []\n",
    "prec_score = []\n",
    "acc_score = []\n",
    "\n",
    "def get_scores(model, X_test, y_test):\n",
    "    predictions_test = model.predict(X_test)\n",
    "    test_f1 = f1_score(y_test, predictions_test)\n",
    "    test_acc = accuracy_score(y_test, predictions_test)\n",
    "\n",
    "    print(\"Accuracy\")\n",
    "    print(\"Тестовая выборка:\", test_acc)\n",
    "    print(\"F1-мера\")\n",
    "    print(\"Тестовая выборка:\", test_f1)\n",
    "\n",
    "    acc_score.append(round(test_acc, 2))\n",
    "    prec_score.append(round(test_f1, 2))\n",
    "    name_model.append(str(model).split('(')[0])"
   ]
  },
  {
   "cell_type": "markdown",
   "id": "d4fd5b18",
   "metadata": {},
   "source": [
    "### Логистическая регрессия"
   ]
  },
  {
   "cell_type": "code",
   "execution_count": 113,
   "id": "3d79d3e4",
   "metadata": {},
   "outputs": [
    {
     "name": "stdout",
     "output_type": "stream",
     "text": [
      "Accuracy\n",
      "Тестовая выборка: 0.9513159263497347\n",
      "F1-мера\n",
      "Тестовая выборка: 0.7229129662522202\n"
     ]
    }
   ],
   "source": [
    "get_scores(model_logreg, X_test, y_test)"
   ]
  },
  {
   "cell_type": "markdown",
   "id": "a42cfa6f",
   "metadata": {},
   "source": [
    "### Случайные леса"
   ]
  },
  {
   "cell_type": "code",
   "execution_count": 114,
   "id": "4f405d21",
   "metadata": {},
   "outputs": [
    {
     "name": "stdout",
     "output_type": "stream",
     "text": [
      "Accuracy\n",
      "Тестовая выборка: 0.9567252678664309\n",
      "F1-мера\n",
      "Тестовая выборка: 0.7514934289127836\n"
     ]
    }
   ],
   "source": [
    "get_scores(model_rand_forst, X_test, y_test)"
   ]
  },
  {
   "cell_type": "markdown",
   "id": "04d5ca1c",
   "metadata": {},
   "source": [
    "### AdaBoost"
   ]
  },
  {
   "cell_type": "code",
   "execution_count": 115,
   "id": "12946b1d",
   "metadata": {},
   "outputs": [
    {
     "name": "stdout",
     "output_type": "stream",
     "text": [
      "Accuracy\n",
      "Тестовая выборка: 0.9669718090086341\n",
      "F1-мера\n",
      "Тестовая выборка: 0.798732171156894\n"
     ]
    }
   ],
   "source": [
    "get_scores(model_ada_boost, X_test, y_test)"
   ]
  },
  {
   "cell_type": "markdown",
   "id": "629ecfff",
   "metadata": {},
   "source": [
    "### Вывод\n",
    "\n",
    "Для удобства выведем таблицу наших параметров по моделям:"
   ]
  },
  {
   "cell_type": "code",
   "execution_count": 120,
   "id": "893584cf",
   "metadata": {},
   "outputs": [
    {
     "data": {
      "text/html": [
       "<div>\n",
       "<style scoped>\n",
       "    .dataframe tbody tr th:only-of-type {\n",
       "        vertical-align: middle;\n",
       "    }\n",
       "\n",
       "    .dataframe tbody tr th {\n",
       "        vertical-align: top;\n",
       "    }\n",
       "\n",
       "    .dataframe thead th {\n",
       "        text-align: right;\n",
       "    }\n",
       "</style>\n",
       "<table border=\"1\" class=\"dataframe\">\n",
       "  <thead>\n",
       "    <tr style=\"text-align: right;\">\n",
       "      <th></th>\n",
       "      <th>Model</th>\n",
       "      <th>Accuracy</th>\n",
       "      <th>F1 score</th>\n",
       "    </tr>\n",
       "  </thead>\n",
       "  <tbody>\n",
       "    <tr>\n",
       "      <th>0</th>\n",
       "      <td>AdaBoostClassifier</td>\n",
       "      <td>0.97</td>\n",
       "      <td>0.80</td>\n",
       "    </tr>\n",
       "    <tr>\n",
       "      <th>1</th>\n",
       "      <td>RandomForestClassifier</td>\n",
       "      <td>0.96</td>\n",
       "      <td>0.75</td>\n",
       "    </tr>\n",
       "    <tr>\n",
       "      <th>2</th>\n",
       "      <td>LogisticRegression</td>\n",
       "      <td>0.95</td>\n",
       "      <td>0.72</td>\n",
       "    </tr>\n",
       "  </tbody>\n",
       "</table>\n",
       "</div>"
      ],
      "text/plain": [
       "                    Model  Accuracy  F1 score\n",
       "0      AdaBoostClassifier      0.97      0.80\n",
       "1  RandomForestClassifier      0.96      0.75\n",
       "2      LogisticRegression      0.95      0.72"
      ]
     },
     "execution_count": 120,
     "metadata": {},
     "output_type": "execute_result"
    }
   ],
   "source": [
    "models_table = (pd.DataFrame({'Model':name_model, 'Accuracy':acc_score, \n",
    "                                'F1 score':prec_score}).sort_values(by='F1 score', ascending=False).\n",
    "                  reset_index(drop=True))\n",
    "\n",
    "models_table"
   ]
  },
  {
   "cell_type": "markdown",
   "id": "c92cd91e",
   "metadata": {},
   "source": [
    "Наилучший результат получил AdaBoostClassifier `F1 score` - 0.80, второе место занимает RandomForestClassifier c `F1 score` - 0.75 и третье место - LogisticRegression с `F1 score` - 0.72\n"
   ]
  },
  {
   "cell_type": "markdown",
   "id": "508a9f82",
   "metadata": {},
   "source": [
    "## Проверка адекватности моделей"
   ]
  },
  {
   "cell_type": "markdown",
   "id": "dc2f82ae",
   "metadata": {},
   "source": [
    "Сравним наши модели с константной моделью: любому объекту она прогнозирует класс «0»"
   ]
  },
  {
   "cell_type": "code",
   "execution_count": 123,
   "id": "e07a5b1d",
   "metadata": {},
   "outputs": [
    {
     "name": "stdout",
     "output_type": "stream",
     "text": [
      "Accuracy\n",
      "Константа: 0.9117634820239681\n"
     ]
    }
   ],
   "source": [
    "target_const = y*0\n",
    "acc_const = accuracy_score(y, target_const)\n",
    "\n",
    "\n",
    "print(\"Accuracy\")\n",
    "print(\"Константа:\", acc_const)"
   ]
  },
  {
   "cell_type": "markdown",
   "id": "6f4d740f",
   "metadata": {},
   "source": [
    "Все три модели прошли проверку на адекватность. Правильность наших моделей выше, чем у случайной. Также мы смотрели ROC-AUC на валидации, наши модели показывали результаты лучше чем константа."
   ]
  },
  {
   "cell_type": "markdown",
   "id": "1ffff633",
   "metadata": {},
   "source": [
    "## Вывод\n",
    "Нам были предоставлены исторические данные о признаках диабета. На основе этих данных мы сформировали признаки для обучения модели с целью прогнозирования наличия диабета у наблюдаемого пациента. Лучших результатов мы достигли с моделью на основе ансаблевого алгоритма AdaBoost - F1 мера - 0.80.\n",
    "\n",
    "\n",
    "Для прогнозирования наличия диабета, можно использовать модель на основе алгоритма AdaBoost."
   ]
  }
 ],
 "metadata": {
  "kernelspec": {
   "display_name": "Python 3 (ipykernel)",
   "language": "python",
   "name": "python3"
  },
  "language_info": {
   "codemirror_mode": {
    "name": "ipython",
    "version": 3
   },
   "file_extension": ".py",
   "mimetype": "text/x-python",
   "name": "python",
   "nbconvert_exporter": "python",
   "pygments_lexer": "ipython3",
   "version": "3.9.13"
  }
 },
 "nbformat": 4,
 "nbformat_minor": 5
}
